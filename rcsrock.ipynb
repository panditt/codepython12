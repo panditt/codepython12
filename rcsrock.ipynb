{
 "cells": [
  {
   "cell_type": "code",
   "execution_count": 23,
   "id": "2ba6b58d",
   "metadata": {},
   "outputs": [
    {
     "name": "stdout",
     "output_type": "stream",
     "text": [
      "welcome to the game rock, paper, scissors\n",
      "enter your move (r)rock, (p)paper, (s)scissor or (q)quit  p\n",
      "you have choosen paper as your move and computer has choosen paper\n",
      "it's a tie\n",
      "enter your move (r)rock, (p)paper, (s)scissor or (q)quit  r\n",
      "you have choosen rock as your move and computer has choosen scissors\n",
      "you win\n",
      "enter your move (r)rock, (p)paper, (s)scissor or (q)quit  s\n",
      "you have choosen scissors as your move and computer has choosen rock\n",
      "you lose\n",
      "enter your move (r)rock, (p)paper, (s)scissor or (q)quit  q\n",
      "you have choosen to quit your score is wins = 1 losses = 1 ties = 1\n"
     ]
    },
    {
     "ename": "SystemExit",
     "evalue": "",
     "output_type": "error",
     "traceback": [
      "An exception has occurred, use %tb to see the full traceback.\n",
      "\u001b[1;31mSystemExit\u001b[0m\n"
     ]
    }
   ],
   "source": [
    "import random, sys\n",
    "\n",
    "\"this program is designed to perform a function or a game called rock, paper, scissor\"\n",
    "print(\"welcome to the game rock, paper, scissors\")\n",
    "wins,losses,ties = 0,0,0\n",
    "\n",
    "while True:\n",
    "    move = input(\"enter your move (r)rock, (p)paper, (s)scissor or (q)quit  \")\n",
    "    randomNumber = random.randint(1, 3)\n",
    "    if randomNumber == 1:\n",
    "        computerMove = 'rock'\n",
    "    elif randomNumber == 2:\n",
    "        computerMove = 'paper'\n",
    "    elif randomNumber == 3:\n",
    "        computerMove = 'scissors'\n",
    "        \n",
    "        \n",
    "    if move == 'q':\n",
    "        print(\"you have choosen to quit your score is wins = {} losses = {} ties = {}\".format(wins,losses,ties))\n",
    "        sys.exit()\n",
    "    elif move == 'r':\n",
    "        print(\"you have choosen rock as your move and computer has choosen {}\".format(computerMove))\n",
    "        if computerMove == 'rock':\n",
    "            print(\"it's a tie\")\n",
    "            ties += 1\n",
    "        elif computerMove == 'paper':\n",
    "            print(\"you lose\")\n",
    "            losses += 1\n",
    "        else:\n",
    "            print(\"you win\")\n",
    "            wins += 1\n",
    "    elif move == 's':\n",
    "        print(\"you have choosen scissors as your move and computer has choosen {}\".format(computerMove))\n",
    "        if computerMove == 'scissors':\n",
    "            print(\"it's a tie\")\n",
    "            ties += 1\n",
    "        elif computerMove == 'rock':\n",
    "            print(\"you lose\")\n",
    "            losses += 1\n",
    "        else:\n",
    "            print(\"you win\")\n",
    "            wins += 1\n",
    "    elif move == 'p':\n",
    "        print(\"you have choosen paper as your move and computer has choosen {}\".format(computerMove))\n",
    "        if computerMove == 'paper':\n",
    "            print(\"it's a tie\")\n",
    "            ties += 1\n",
    "        elif computerMove == 'scissors':\n",
    "            print(\"you lose\")\n",
    "            losses += 1\n",
    "        else:\n",
    "            print(\"you win\")\n",
    "            wins += 1"
   ]
  },
  {
   "cell_type": "code",
   "execution_count": 27,
   "id": "45fdb973",
   "metadata": {},
   "outputs": [
    {
     "name": "stdout",
     "output_type": "stream",
     "text": [
      "spam\n"
     ]
    }
   ],
   "source": [
    "def spam():\n",
    "    global eggs\n",
    "    eggs = 'spam'\n",
    "\n",
    "eggs = 'global'\n",
    "spam()\n",
    "print(eggs)"
   ]
  },
  {
   "cell_type": "code",
   "execution_count": null,
   "id": "f8f1da6c",
   "metadata": {},
   "outputs": [],
   "source": []
  }
 ],
 "metadata": {
  "kernelspec": {
   "display_name": "Python 3 (ipykernel)",
   "language": "python",
   "name": "python3"
  },
  "language_info": {
   "codemirror_mode": {
    "name": "ipython",
    "version": 3
   },
   "file_extension": ".py",
   "mimetype": "text/x-python",
   "name": "python",
   "nbconvert_exporter": "python",
   "pygments_lexer": "ipython3",
   "version": "3.9.12"
  }
 },
 "nbformat": 4,
 "nbformat_minor": 5
}
