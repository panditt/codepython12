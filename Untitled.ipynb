twinkle is kaamchor she doesn't like to work "execution_count": 3,
   "id": "4549620b",
   "metadata": {},
   "outputs": [],
   "source": [
    " class fruit:\n",
    "        def __init__(self,color,flavour):\n",
    "            self.color = color\n",
    "            self.flavour = flavour"
   ]
  },
  {
   "cell_type": "code",
   "execution_count": 4,
   "id": "282bb041",
   "metadata": {},
   "outputs": [],
   "source": [
    "class apple(fruit):\n",
    "    pass"
   ]
  },
  {
   "cell_type": "code",
   "execution_count": 6,
   "id": "a9762673",
   "metadata": {},
   "outputs": [],
   "source": [
    "class grape(fruit):\n",
    "    pass"
   ]
  },
  {
   "cell_type": "code",
   "execution_count": 7,
   "id": "431d3d0c",
   "metadata": {},
   "outputs": [],
   "source": [
    "nitesh = apple(\"red\",\"tart\")"
   ]
  },
  {
   "cell_type": "code",
   "execution_count": 8,
   "id": "5998e6be",
   "metadata": {},
   "outputs": [
    {
     "name": "stdout",
     "output_type": "stream",
     "text": [
      "red\n"
     ]
    }
   ],
   "source": [
    "\n",
    "print(nitesh.color)"
   ]
  },
  {
   "cell_type": "code",
   "execution_count": 8,
   "id": "1a54d10b",
   "metadata": {},
   "outputs": [],
   "source": [
    ">>> class Animal:\n",
    "...     sound = \"\"\n",
    "...     def __init__(self, name):\n",
    "...         self.name = name\n",
    "...     def speak(self):\n",
    "...         print(\"{sound} I'm {name}! {sound}\".format(\n",
    "...             name=self.name, sound=self.sound))\n",
    "... \n",
    ">>> class Piglet(Animal): #inheritence of class animal in piglet\n",
    "...     sound = \"Oink!\"\n",
    "... \n",
    ">>> class Cow(Animal):\n",
    "...     sound = \"Moooo\"\n",
    "... nitin = Piglet(\"anim\") "
   ]
  },
  {
   "cell_type": "code",
   "execution_count": 11,
   "id": "921b17c8",
   "metadata": {},
   "outputs": [
    {
     "name": "stdout",
     "output_type": "stream",
     "text": [
      "anim\n",
      "Oink! I'm anim! Oink!\n",
      "None\n"
     ]
    }
   ],
   "source": [
    "print(nitin.name)\n",
    "print(nitin.speak())"
   ]
  },
  {
   "cell_type": "code",
   "execution_count": 2,
   "id": "cb022b45",
   "metadata": {},
   "outputs": [
    {
     "name": "stdout",
     "output_type": "stream",
     "text": [
      "40320\n"
     ]
    }
   ],
   "source": [
    "def FirstFactorial(num):\n",
    "  fact = 1\n",
    "  for i in range(1,num+1):\n",
    "    fact = fact * i\n",
    "  # code goes here\n",
    "  return fact\n",
    "\n",
    "print(FirstFactorial(8))"
   ]
  },
  {
   "cell_type": "code",
   "execution_count": null,
   "id": "136332a3",
   "metadata": {},
   "outputs": [],
   "source": []
  }
 ],
 "metadata": {
  "kernelspec": {
   "display_name": "Python 3 (ipykernel)",
   "language": "python",
   "name": "python3"
  },
  "language_info": {
   "codemirror_mode": {
    "name": "ipython",
    "version": 3
   },
   "file_extension": ".py",
   "mimetype": "text/x-python",
   "name": "python",
   "nbconvert_exporter": "python",
   "pygments_lexer": "ipython3",
   "version": "3.9.12"
  }
 },
 "nbformat": 4,
 "nbformat_minor": 5
}
