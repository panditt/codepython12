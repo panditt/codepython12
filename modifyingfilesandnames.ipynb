{
 "cells": [
  {
   "cell_type": "code",
   "execution_count": 8,
   "id": "af1d3e53",
   "metadata": {},
   "outputs": [],
   "source": [
    "with open(\"untitled.ipynb\",\"r\") as fl:\n",
    "    #fl.write(\"ye gulista hindosta yu hi khil khilayega\")\n",
    "    fl.read()"
   ]
  },
  {
   "cell_type": "code",
   "execution_count": 28,
   "id": "d4c417c4",
   "metadata": {},
   "outputs": [
    {
     "ename": "SyntaxError",
     "evalue": "(unicode error) 'unicodeescape' codec can't decode bytes in position 2-3: truncated \\UXXXXXXXX escape (3005332510.py, line 33)",
     "output_type": "error",
     "traceback": [
      "\u001b[1;36m  Input \u001b[1;32mIn [28]\u001b[1;36m\u001b[0m\n\u001b[1;33m    os.chdir(\"C:\\Users\\Nitin\\PythonProject\")\u001b[0m\n\u001b[1;37m                                           ^\u001b[0m\n\u001b[1;31mSyntaxError\u001b[0m\u001b[1;31m:\u001b[0m (unicode error) 'unicodeescape' codec can't decode bytes in position 2-3: truncated \\UXXXXXXXX escape\n"
     ]
    }
   ],
   "source": [
    "import os\n",
    "import datetime\n",
    "\n",
    "fl = open('untitled.ipynb','w')\n",
    "#checks if the file untitled.ipynb is in the list or not\n",
    "a = os.path.isfile('untitled.ipynb')\n",
    "\n",
    "#gets the size of the file \n",
    "b = os.path.getsize('untitled.ipynb')\n",
    "\n",
    "#gives the timestamp of when the file was last modified or created\n",
    "os.path.getmtime('untitled.ipynb')\n",
    "timestamp = os.path.getmtime('untitled.ipynb')\n",
    "gd = datetime.datetime.fromtimestamp(timestamp)\n",
    "c = gd.date()\n",
    "\n",
    "#gives the absolute path of a particular file or directory\n",
    "d = os.path.abspath('untitled.ipynb')\n",
    "\n",
    "#returns the add of current directory\n",
    "e = os.getcwd()\n",
    "\n",
    "#removes a directory\n",
    "\n",
    "#creates new directory in the present directory\n",
    "#os.mkdir('hello')\n",
    "\n",
    "#changes path of the current directory and get into the another directory\n",
    "#os.chdir('hello')\n",
    "\n",
    "f = os.getcwd()\n",
    "print(f)\n",
    "os.chdir(\"C:\\Users\\Nitin\\PythonProject\")\n",
    "os.listdir()\n",
    "\n",
    "\n",
    "\n",
    "\n"
   ]
  },
  {
   "cell_type": "markdown",
   "id": "e3e26a13",
   "metadata": {},
   "source": [
    "this is the "
   ]
  },
  {
   "cell_type": "code",
   "execution_count": 29,
   "id": "2636a0bd",
   "metadata": {},
   "outputs": [
    {
     "name": "stdout",
     "output_type": "stream",
     "text": [
      "31\n"
     ]
    }
   ],
   "source": [
    "import os\n",
    "def create_python_script(filename):\n",
    "  comments = \"# Start of a new Python program\"\n",
    "  with open(\"filename\",\"w\") as fd:\n",
    "    fd.write(comments)\n",
    "  filesize = os.path.getsize(\"filename\")\n",
    "  return(filesize)\n",
    "\n",
    "print(create_python_script(\"program.py\"))"
   ]
  },
  {
   "cell_type": "markdown",
   "id": "7c45d03b",
   "metadata": {},
   "source": [
    "    2 nd \n",
    "    "
   ]
  },
  {
   "cell_type": "code",
   "execution_count": 30,
   "id": "d2350a38",
   "metadata": {},
   "outputs": [
    {
     "name": "stdout",
     "output_type": "stream",
     "text": [
      "['script.py']\n"
     ]
    }
   ],
   "source": [
    "import os\n",
    "\n",
    "def new_directory(directory, filename):\n",
    "  # Before creating a new directory, check to see if it already exists\n",
    "  if os.path.isdir(directory) == False:\n",
    "    os.mkdir(directory)\n",
    "\n",
    "  # Create the new file inside of the new directory\n",
    "  os.chdir(directory)\n",
    "  with open (filename,\"w\") as file:\n",
    "    pass\n",
    "\n",
    "  # Return the list of files in the new directory\n",
    "  return os.listdir()\n",
    "\n",
    "print(new_directory(\"PythonPrograms\", \"script.py\"))"
   ]
  },
  {
   "cell_type": "markdown",
   "id": "17374e1e",
   "metadata": {},
   "source": [
    "4th\n"
   ]
  },
  {
   "cell_type": "code",
   "execution_count": 31,
   "id": "dfe804d1",
   "metadata": {},
   "outputs": [
    {
     "name": "stdout",
     "output_type": "stream",
     "text": [
      "2022-08-29\n"
     ]
    }
   ],
   "source": [
    "import os\n",
    "import datetime\n",
    "\n",
    "def file_date(filename):\n",
    "  # Create the file in the current directory\n",
    "  file = open(filename,\"x\")\n",
    "  timestamp = os.path.getmtime(filename)\n",
    "  # Convert the timestamp into a readable format, then into a string\n",
    "  gd = datetime.datetime.fromtimestamp(timestamp)\n",
    "  # Return just the date portion \n",
    "  # Hint: how many characters are in “yyyy-mm-dd”? \n",
    "  return (\"{}\".format(gd.date()))\n",
    "  \n",
    "\n",
    "print(file_date(\"newfile.txt\")) \n",
    "# Should be today's date in the format of yyyy-mm-dd"
   ]
  },
  {
   "cell_type": "code",
   "execution_count": null,
   "id": "c183e302",
   "metadata": {},
   "outputs": [],
   "source": []
  }
 ],
 "metadata": {
  "kernelspec": {
   "display_name": "Python 3 (ipykernel)",
   "language": "python",
   "name": "python3"
  },
  "language_info": {
   "codemirror_mode": {
    "name": "ipython",
    "version": 3
   },
   "file_extension": ".py",
   "mimetype": "text/x-python",
   "name": "python",
   "nbconvert_exporter": "python",
   "pygments_lexer": "ipython3",
   "version": "3.9.12"
  }
 },
 "nbformat": 4,
 "nbformat_minor": 5
}
