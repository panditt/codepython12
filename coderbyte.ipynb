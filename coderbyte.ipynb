{
 "cells": [
  {
   "cell_type": "code",
   "execution_count": 1,
   "id": "70ebc4b7",
   "metadata": {},
   "outputs": [
    {
     "name": "stdout",
     "output_type": "stream",
     "text": [
      "dildadimag\n",
      "4\n"
     ]
    }
   ],
   "source": [
    "def MatchingCharacters(strParam):\n",
    "  count = 0\n",
    "  for i in range(len(strParam)):\n",
    "    #for tracking the sequence number of alphabet in strParam len used\n",
    "    charObj = {}\n",
    "    v = strParam[i]\n",
    "    #getting the last index number of alphabet in i place\n",
    "    lastidx = strParam.rindex(v)\n",
    "    if i != lastidx:\n",
    "      j = i + 1\n",
    "      while j < lastidx:\n",
    "        t = strParam[j]\n",
    "        if charObj.get(t) is None:\n",
    "          charObj[t] = t\n",
    "        if count < len(charObj.keys()):\n",
    "         count = len(charObj.keys())\n",
    "        j += 1\n",
    "     \n",
    "\n",
    "  # code goes here\n",
    "  return count\n",
    "\n",
    "# keep this function call here \n",
    "print(MatchingCharacters(input()))"
   ]
  },
  {
   "cell_type": "code",
   "execution_count": 3,
   "id": "003be8e1",
   "metadata": {},
   "outputs": [
    {
     "ename": "AttributeError",
     "evalue": "'list' object has no attribute 'items'",
     "output_type": "error",
     "traceback": [
      "\u001b[1;31m---------------------------------------------------------------------------\u001b[0m",
      "\u001b[1;31mAttributeError\u001b[0m                            Traceback (most recent call last)",
      "Input \u001b[1;32mIn [3]\u001b[0m, in \u001b[0;36m<cell line: 18>\u001b[1;34m()\u001b[0m\n\u001b[0;32m     15\u001b[0m             \u001b[38;5;28;01mreturn\u001b[39;00m \u001b[38;5;28;01mFalse\u001b[39;00m\n\u001b[0;32m     16\u001b[0m     \u001b[38;5;28;01mreturn\u001b[39;00m \u001b[38;5;28;01mTrue\u001b[39;00m\n\u001b[1;32m---> 18\u001b[0m \u001b[38;5;28mprint\u001b[39m (\u001b[43mTreeConstructor\u001b[49m\u001b[43m(\u001b[49m\u001b[43m[\u001b[49m\u001b[38;5;124;43m\"\u001b[39;49m\u001b[38;5;124;43m(1,2)\u001b[39;49m\u001b[38;5;124;43m\"\u001b[39;49m\u001b[43m,\u001b[49m\u001b[43m \u001b[49m\u001b[38;5;124;43m\"\u001b[39;49m\u001b[38;5;124;43m(2,4)\u001b[39;49m\u001b[38;5;124;43m\"\u001b[39;49m\u001b[43m,\u001b[49m\u001b[43m \u001b[49m\u001b[38;5;124;43m\"\u001b[39;49m\u001b[38;5;124;43m(5,7)\u001b[39;49m\u001b[38;5;124;43m\"\u001b[39;49m\u001b[43m,\u001b[49m\u001b[43m \u001b[49m\u001b[38;5;124;43m\"\u001b[39;49m\u001b[38;5;124;43m(7,2)\u001b[39;49m\u001b[38;5;124;43m\"\u001b[39;49m\u001b[43m,\u001b[49m\u001b[43m \u001b[49m\u001b[38;5;124;43m\"\u001b[39;49m\u001b[38;5;124;43m(9,5)\u001b[39;49m\u001b[38;5;124;43m\"\u001b[39;49m\u001b[43m]\u001b[49m\u001b[43m)\u001b[49m)      \u001b[38;5;66;03m# True\u001b[39;00m\n\u001b[0;32m     19\u001b[0m \u001b[38;5;28mprint\u001b[39m (TreeConstructor([\u001b[38;5;124m\"\u001b[39m\u001b[38;5;124m(1,2)\u001b[39m\u001b[38;5;124m\"\u001b[39m, \u001b[38;5;124m\"\u001b[39m\u001b[38;5;124m(3,2)\u001b[39m\u001b[38;5;124m\"\u001b[39m, \u001b[38;5;124m\"\u001b[39m\u001b[38;5;124m(2,12)\u001b[39m\u001b[38;5;124m\"\u001b[39m, \u001b[38;5;124m\"\u001b[39m\u001b[38;5;124m(5,2)\u001b[39m\u001b[38;5;124m\"\u001b[39m] ))\n",
      "Input \u001b[1;32mIn [3]\u001b[0m, in \u001b[0;36mTreeConstructor\u001b[1;34m(strArr)\u001b[0m\n\u001b[0;32m      7\u001b[0m     parent\u001b[38;5;241m.\u001b[39mappend(\u001b[38;5;28mint\u001b[39m(i[\u001b[38;5;241m3\u001b[39m]))\n\u001b[0;32m      8\u001b[0m \u001b[38;5;66;03m# each parent node have at most 2 children\u001b[39;00m\n\u001b[1;32m----> 9\u001b[0m \u001b[38;5;28;01mfor\u001b[39;00m k,v \u001b[38;5;129;01min\u001b[39;00m \u001b[43mparent\u001b[49m\u001b[38;5;241;43m.\u001b[39;49m\u001b[43mitems\u001b[49m():\n\u001b[0;32m     10\u001b[0m     \u001b[38;5;28;01mif\u001b[39;00m v \u001b[38;5;241m>\u001b[39m \u001b[38;5;241m2\u001b[39m:\n\u001b[0;32m     11\u001b[0m         \u001b[38;5;28;01mreturn\u001b[39;00m \u001b[38;5;28;01mFalse\u001b[39;00m\n",
      "\u001b[1;31mAttributeError\u001b[0m: 'list' object has no attribute 'items'"
     ]
    }
   ],
   "source": [
    "def TreeConstructor(strArr):\n",
    "    parent = []\n",
    "    child = []\n",
    "\n",
    "    for i in strArr:\n",
    "        child.append(int(i[1]))\n",
    "        parent.append(int(i[3]))\n",
    "    # each parent node have at most 2 children\n",
    "    \n",
    "    for k,v in parent.items():\n",
    "        if v > 2:\n",
    "            return False\n",
    "    # each node is unique\n",
    "    for k,v in child.items():\n",
    "        if v > 1:\n",
    "            return False\n",
    "    return True\n",
    "\n",
    "print (TreeConstructor([\"(1,2)\", \"(2,4)\", \"(5,7)\", \"(7,2)\", \"(9,5)\"]))      # True\n",
    "print (TreeConstructor([\"(1,2)\", \"(3,2)\", \"(2,12)\", \"(5,2)\"] ))"
   ]
  },
  {
   "cell_type": "code",
   "execution_count": null,
   "id": "273b8301",
   "metadata": {},
   "outputs": [],
   "source": []
  }
 ],
 "metadata": {
  "kernelspec": {
   "display_name": "Python 3 (ipykernel)",
   "language": "python",
   "name": "python3"
  },
  "language_info": {
   "codemirror_mode": {
    "name": "ipython",
    "version": 3
   },
   "file_extension": ".py",
   "mimetype": "text/x-python",
   "name": "python",
   "nbconvert_exporter": "python",
   "pygments_lexer": "ipython3",
   "version": "3.9.12"
  }
 },
 "nbformat": 4,
 "nbformat_minor": 5
}
