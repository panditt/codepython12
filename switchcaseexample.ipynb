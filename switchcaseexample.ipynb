{
 "cells": [
  {
   "cell_type": "code",
   "execution_count": 1,
   "id": "a13425e0",
   "metadata": {},
   "outputs": [
    {
     "name": "stdout",
     "output_type": "stream",
     "text": [
      "3\n",
      "23 45\n",
      "13\n",
      "245 4453\n",
      "23\n",
      "234 101\n",
      "15\n"
     ]
    }
   ],
   "source": [
    "def zero():\n",
    "    return 6\n",
    "def one():\n",
    "    return 2\n",
    "def two():\n",
    "    return 5\n",
    "def three():\n",
    "    return 5\n",
    "def four():\n",
    "    return 4\n",
    "def five():\n",
    "    return 5\n",
    "def six():\n",
    "    return 6\n",
    "def seven():\n",
    "    return 3\n",
    "def eight():\n",
    "    return 7\n",
    "def nine():\n",
    "    return 6\n",
    "def default():\n",
    "    return 0\n",
    "switcher = {\n",
    "    0 : zero,\n",
    "    1 : one,\n",
    "    2 : two,\n",
    "    3 : three,\n",
    "    4 : four,\n",
    "    5 : five,\n",
    "    6 : six,\n",
    "    7 : seven,\n",
    "    8 : eight,\n",
    "    9 : nine\n",
    "    }\n",
    "def switch(t):\n",
    "    return switcher.get(t,default)()\n",
    "    \n",
    "# cook your dish here\n",
    "T = int(input())\n",
    "c = 0\n",
    "while T:\n",
    "    a,b = map(int,input().split())\n",
    "    m = 0\n",
    "    c = a + b\n",
    "    while c >= 1:\n",
    "        x = c%10\n",
    "        m = m + int(switch(x))\n",
    "        c = int(c/10)\n",
    "    print(m)\n",
    "    T-=1"
   ]
  },
  {
   "cell_type": "code",
   "execution_count": 7,
   "id": "c769c388",
   "metadata": {},
   "outputs": [
    {
     "name": "stdout",
     "output_type": "stream",
     "text": [
      "3\n",
      "23 45\n",
      "13\n",
      "245 4453\n",
      "23\n",
      "234 101\n",
      "15\n"
     ]
    }
   ],
   "source": [
    "#same above program using if elif and else\n",
    "T = int(input())\n",
    "c = 0\n",
    "while T:\n",
    "    a,b = map(int,input().split())\n",
    "    c = a + b\n",
    "    m = 0\n",
    "    while c>= 1:\n",
    "        x = c%10\n",
    "        if x == 1:\n",
    "            m += 2\n",
    "        elif x == 2:\n",
    "            m += 5\n",
    "        elif x == 3:\n",
    "            m += 5\n",
    "        elif x == 0:\n",
    "            m += 6\n",
    "        elif x == 4:\n",
    "            m += 4\n",
    "        elif x == 5:\n",
    "            m += 5\n",
    "        elif x == 6:\n",
    "            m += 6\n",
    "        elif x == 7:\n",
    "            m += 3\n",
    "        elif x == 8:\n",
    "            m += 7\n",
    "        else:\n",
    "            m += 6\n",
    "        c = c//10\n",
    "    print(m)\n",
    "    T-=1"
   ]
  },
  {
   "cell_type": "code",
   "execution_count": 6,
   "id": "76e99ae2",
   "metadata": {},
   "outputs": [
    {
     "name": "stdout",
     "output_type": "stream",
     "text": [
      "162343\n"
     ]
    }
   ],
   "source": [
    "d =1623435\n",
    "d = d//10\n",
    "print(d)"
   ]
  },
  {
   "cell_type": "code",
   "execution_count": null,
   "id": "e7bf1b4f",
   "metadata": {},
   "outputs": [],
   "source": []
  }
 ],
 "metadata": {
  "kernelspec": {
   "display_name": "Python 3 (ipykernel)",
   "language": "python",
   "name": "python3"
  },
  "language_info": {
   "codemirror_mode": {
    "name": "ipython",
    "version": 3
   },
   "file_extension": ".py",
   "mimetype": "text/x-python",
   "name": "python",
   "nbconvert_exporter": "python",
   "pygments_lexer": "ipython3",
   "version": "3.9.12"
  }
 },
 "nbformat": 4,
 "nbformat_minor": 5
}
