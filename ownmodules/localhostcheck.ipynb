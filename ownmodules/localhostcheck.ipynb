{
 "cells": [
  {
   "cell_type": "code",
   "execution_count": 2,
   "id": "11285260",
   "metadata": {},
   "outputs": [],
   "source": [
    "#filename network.py\n",
    "import requests\n",
    "import socket\n",
    "def check_localhost():\n",
    "    localhost = socket.getlocalhost.byname('localhost')\n",
    "    return True\n",
    "def check_connectivity():\n",
    "    request = request.get(\"http://www.google.com\")\n",
    "    return True\n"
   ]
  },
  {
   "cell_type": "code",
   "execution_count": 4,
   "id": "278438fa",
   "metadata": {},
   "outputs": [
    {
     "ename": "ModuleNotFoundError",
     "evalue": "No module named 'network'",
     "output_type": "error",
     "traceback": [
      "\u001b[1;31m---------------------------------------------------------------------------\u001b[0m",
      "\u001b[1;31mModuleNotFoundError\u001b[0m                       Traceback (most recent call last)",
      "Input \u001b[1;32mIn [4]\u001b[0m, in \u001b[0;36m<cell line: 1>\u001b[1;34m()\u001b[0m\n\u001b[1;32m----> 1\u001b[0m \u001b[38;5;28;01mfrom\u001b[39;00m \u001b[38;5;21;01mnetwork\u001b[39;00m \u001b[38;5;28;01mimport\u001b[39;00m\u001b[38;5;241m*\u001b[39m\n\u001b[0;32m      2\u001b[0m \u001b[38;5;28;01mimport\u001b[39;00m \u001b[38;5;21;01mshutil\u001b[39;00m\n\u001b[0;32m      3\u001b[0m \u001b[38;5;28;01mimport\u001b[39;00m \u001b[38;5;21;01mpsutil\u001b[39;00m\n",
      "\u001b[1;31mModuleNotFoundError\u001b[0m: No module named 'network'"
     ]
    }
   ],
   "source": [
    "from network import*\n",
    "import shutil\n",
    "import psutil\n",
    "def check_disk_usage(disk):\n",
    "    \"\"\"verifies that there is enough free space on disk\"\"\"\n",
    "    du = shutil.disk_usage(disk)\n",
    "    free = du.free/du.total*100\n",
    "    return free > 20\n",
    "\n",
    "def check_cpu_usage():\n",
    "    \"\"\"verifies that there is enough unused cpu\"\"\"\n",
    "    usage = psutil.cpu_percent(1)\n",
    "    return usage < 75\n",
    "\n",
    "if not check_disk_usage(\"/\") or not check_cpu_usage():\n",
    "    print(\"error\")\n",
    "#elif heck_localhost() and check_connectivity():\n",
    "#   print(\"everything ok\")\n",
    "else:\n",
    "    print(\"everything is okay as per our tests\")"
   ]
  },
  {
   "cell_type": "code",
   "execution_count": null,
   "id": "2be0437c",
   "metadata": {},
   "outputs": [],
   "source": []
  }
 ],
 "metadata": {
  "kernelspec": {
   "display_name": "Python 3 (ipykernel)",
   "language": "python",
   "name": "python3"
  },
  "language_info": {
   "codemirror_mode": {
    "name": "ipython",
    "version": 3
   },
   "file_extension": ".py",
   "mimetype": "text/x-python",
   "name": "python",
   "nbconvert_exporter": "python",
   "pygments_lexer": "ipython3",
   "version": "3.9.12"
  }
 },
 "nbformat": 4,
 "nbformat_minor": 5
}
