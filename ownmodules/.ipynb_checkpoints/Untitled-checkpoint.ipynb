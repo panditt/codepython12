{
 "cells": [
  {
   "cell_type": "code",
   "execution_count": 2,
   "id": "19e82224",
   "metadata": {},
   "outputs": [
    {
     "name": "stdout",
     "output_type": "stream",
     "text": [
      "[[ 3 12  6]\n",
      " [36 60 48]]\n"
     ]
    }
   ],
   "source": [
    "import numpy as np\n",
    "\n",
    "def numpyArray():\n",
    "    x = np.array([[1, 2, 3], [4, 5, 6]], np.int32)\n",
    "    y = np.array([[3, 6, 2], [9, 12, 8]], np.int32)\n",
    "    return x*y\n",
    "print(numpyArray())"
   ]
  },
  {
   "cell_type": "code",
   "execution_count": 2,
   "id": "712a786b",
   "metadata": {},
   "outputs": [
    {
     "name": "stdout",
     "output_type": "stream",
     "text": [
      "enter the number whose you want collatz series233\n",
      "700\n"
     ]
    }
   ],
   "source": [
    "def collatz():\n",
    "    number = input('enter the number whose you want collatz series')\n",
    "    num = int(number)\n",
    "    if num % 2 == 0:\n",
    "        return num // 2\n",
    "    else:\n",
    "        return 3 * num + 1\n",
    "\n",
    "print(collatz())"
   ]
  },
  {
   "cell_type": "code",
   "execution_count": 7,
   "id": "add9a9be",
   "metadata": {},
   "outputs": [],
   "source": [
    "from turtle import *\n",
    "color ('red')\n",
    "begin_fill()\n",
    "pensize(3)\n",
    "left(50)\n",
    "forward(133)\n",
    "circle(50,200)\n",
    "right(140)\n",
    "circle(50,200)\n",
    "forward(133)\n",
    "end_fill()"
   ]
  },
  {
   "cell_type": "code",
   "execution_count": null,
   "id": "630a4d8e",
   "metadata": {},
   "outputs": [],
   "source": []
  }
 ],
 "metadata": {
  "kernelspec": {
   "display_name": "Python 3 (ipykernel)",
   "language": "python",
   "name": "python3"
  },
  "language_info": {
   "codemirror_mode": {
    "name": "ipython",
    "version": 3
   },
   "file_extension": ".py",
   "mimetype": "text/x-python",
   "name": "python",
   "nbconvert_exporter": "python",
   "pygments_lexer": "ipython3",
   "version": "3.9.12"
  }
 },
 "nbformat": 4,
 "nbformat_minor": 5
}
