{
 "cells": [
  {
   "cell_type": "code",
   "execution_count": 10,
   "id": "ee496382",
   "metadata": {},
   "outputs": [],
   "source": [
    "import math\n",
    "def triangle(base, height):\n",
    "    return base*height/2\n",
    "def rectangle(breadth, length):\n",
    "    return breadth*length\n",
    "def circle(radius):\n",
    "    return math.pi*(radius**2)\n"
   ]
  },
  {
   "cell_type": "code",
   "execution_count": 11,
   "id": "b34a9525",
   "metadata": {},
   "outputs": [
    {
     "data": {
      "text/plain": [
       "12.0"
      ]
     },
     "execution_count": 11,
     "metadata": {},
     "output_type": "execute_result"
    }
   ],
   "source": [
    "triangle(6,4)\n",
    "    \n"
   ]
  },
  {
   "cell_type": "code",
   "execution_count": 12,
   "id": "972e5cae",
   "metadata": {},
   "outputs": [
    {
     "data": {
      "text/plain": [
       "100.53096491487338"
      ]
     },
     "execution_count": 12,
     "metadata": {},
     "output_type": "execute_result"
    }
   ],
   "source": [
    "def donut(radiusout, radiusin):\n",
    "    return circle(radiusout) - circle(radiusin)\n",
    "donut(6,2)\n",
    "    "
   ]
  },
  {
   "cell_type": "code",
   "execution_count": null,
   "id": "8f169519",
   "metadata": {},
   "outputs": [],
   "source": []
  }
 ],
 "metadata": {
  "kernelspec": {
   "display_name": "Python 3 (ipykernel)",
   "language": "python",
   "name": "python3"
  },
  "language_info": {
   "codemirror_mode": {
    "name": "ipython",
    "version": 3
   },
   "file_extension": ".py",
   "mimetype": "text/x-python",
   "name": "python",
   "nbconvert_exporter": "python",
   "pygments_lexer": "ipython3",
   "version": "3.9.12"
  }
 },
 "nbformat": 4,
 "nbformat_minor": 5
}
