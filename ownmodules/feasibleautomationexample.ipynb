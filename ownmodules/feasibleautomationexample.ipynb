{
 "cells": [
  {
   "cell_type": "code",
   "execution_count": 4,
   "id": "cc573ab0",
   "metadata": {},
   "outputs": [
    {
     "name": "stdout",
     "output_type": "stream",
     "text": [
      "usage(total=236038586368, used=59393142784, free=176645443584)\n"
     ]
    },
    {
     "data": {
      "text/plain": [
       "74.83752817795558"
      ]
     },
     "execution_count": 4,
     "metadata": {},
     "output_type": "execute_result"
    }
   ],
   "source": [
    "import shutil\n",
    "du = shutil.disk_usage(\"/\")\n",
    "print(du)\n",
    "du.free/du.total*100"
   ]
  },
  {
   "cell_type": "code",
   "execution_count": 10,
   "id": "abe6efb6",
   "metadata": {},
   "outputs": [
    {
     "name": "stdout",
     "output_type": "stream",
     "text": [
      "3.4\n",
      "3.6\n",
      "0.0\n",
      "7.4\n",
      "0.0\n",
      "6.7\n",
      "3.6\n",
      "3.4\n",
      "1.4\n"
     ]
    }
   ],
   "source": [
    "import psutil\n",
    "print(psutil.cpu_percent(0.1))\n",
    "print(psutil.cpu_percent(0.1))\n",
    "print(psutil.cpu_percent(0.1))\n",
    "print(psutil.cpu_percent(0.1))\n",
    "print(psutil.cpu_percent(0.1))\n",
    "print(psutil.cpu_percent(0.1))\n",
    "print(psutil.cpu_percent(0.1))\n",
    "print(psutil.cpu_percent(0.1))\n",
    "print(psutil.cpu_percent(0.7))"
   ]
  },
  {
   "cell_type": "code",
   "execution_count": 11,
   "id": "b6f7d8ef",
   "metadata": {},
   "outputs": [
    {
     "name": "stdout",
     "output_type": "stream",
     "text": [
      "everything is okay as per our tests\n"
     ]
    }
   ],
   "source": [
    "def check_disk_usage(disk):\n",
    "    du = shutil.disk_usage(disk)\n",
    "    free = du.free/du.total*100\n",
    "    return free > 20\n",
    "\n",
    "def check_cpu_usage():\n",
    "    usage = psutil.cpu_percent(1)\n",
    "    return usage < 75\n",
    "\n",
    "if not check_disk_usage(\"/\") or not check_cpu_usage():\n",
    "    print(\"error\")\n",
    "else:\n",
    "    print(\"everything is okay as per our tests\")"
   ]
  },
  {
   "cell_type": "code",
   "execution_count": null,
   "id": "f426a13d",
   "metadata": {},
   "outputs": [],
   "source": []
  }
 ],
 "metadata": {
  "kernelspec": {
   "display_name": "Python 3 (ipykernel)",
   "language": "python",
   "name": "python3"
  },
  "language_info": {
   "codemirror_mode": {
    "name": "ipython",
    "version": 3
   },
   "file_extension": ".py",
   "mimetype": "text/x-python",
   "name": "python",
   "nbconvert_exporter": "python",
   "pygments_lexer": "ipython3",
   "version": "3.9.12"
  }
 },
 "nbformat": 4,
 "nbformat_minor": 5
}
