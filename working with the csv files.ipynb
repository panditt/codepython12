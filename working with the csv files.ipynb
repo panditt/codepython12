{
 "cells": [
  {
   "cell_type": "markdown",
   "id": "fd3178ff",
   "metadata": {},
   "source": [
    "this is the example that can be used to create or generate csv file and read that file in particular"
   ]
  },
  {
   "cell_type": "code",
   "execution_count": 4,
   "id": "000f9fed",
   "metadata": {},
   "outputs": [],
   "source": [
    "import csv\n",
    "users = [{\"name\": \"sol mansi\",\"username\":\"solm\",\"department\":\"It infrastructure\"},\n",
    "        {\"name\": \"lio Nelson\",\"username\":\"Lion\",\"department\":\"user experience research\"}]\n",
    "keys = [\"name\",\"username\",\"department\"]\n",
    "with open('by_department.csv', 'w') as bd:\n",
    "    writer = csv.DictWriter(bd,fieldnames=keys)\n",
    "    writer.writeheader()\n",
    "    writer.writerows(users)"
   ]
  },
  {
   "cell_type": "code",
   "execution_count": 8,
   "id": "2271ac6e",
   "metadata": {},
   "outputs": [
    {
     "name": "stdout",
     "output_type": "stream",
     "text": [
      "name,username,department\n",
      "\n",
      "sol mansi,solm,It infrastructure\n",
      "\n",
      "lio Nelson,Lion,user experience research\n",
      "\n",
      "\n"
     ]
    }
   ],
   "source": [
    "with open('by_department.csv') as bu:\n",
    "    print(bu.read())\n",
    "    "
   ]
  },
  {
   "cell_type": "code",
   "execution_count": 9,
   "id": "0796a771",
   "metadata": {},
   "outputs": [
    {
     "ename": "FileNotFoundError",
     "evalue": "[Errno 2] No such file or directory: '/home/<username>/data/employees.csv'",
     "output_type": "error",
     "traceback": [
      "\u001b[1;31m---------------------------------------------------------------------------\u001b[0m",
      "\u001b[1;31mFileNotFoundError\u001b[0m                         Traceback (most recent call last)",
      "Input \u001b[1;32mIn [9]\u001b[0m, in \u001b[0;36m<cell line: 11>\u001b[1;34m()\u001b[0m\n\u001b[0;32m      8\u001b[0m             employee_list\u001b[38;5;241m.\u001b[39mappend(data)\n\u001b[0;32m      9\u001b[0m         \u001b[38;5;28;01mreturn\u001b[39;00m employee_list\n\u001b[1;32m---> 11\u001b[0m employee_list \u001b[38;5;241m=\u001b[39m \u001b[43mread_employees\u001b[49m\u001b[43m(\u001b[49m\u001b[38;5;124;43m'\u001b[39;49m\u001b[38;5;124;43m/home/<username>/data/employees.csv\u001b[39;49m\u001b[38;5;124;43m'\u001b[39;49m\u001b[43m)\u001b[49m\n\u001b[0;32m     12\u001b[0m \u001b[38;5;28mprint\u001b[39m(employee_list)\n",
      "Input \u001b[1;32mIn [9]\u001b[0m, in \u001b[0;36mread_employees\u001b[1;34m(csv_file_location)\u001b[0m\n\u001b[0;32m      2\u001b[0m \u001b[38;5;28;01mdef\u001b[39;00m \u001b[38;5;21mread_employees\u001b[39m(csv_file_location):\n\u001b[1;32m----> 3\u001b[0m     \u001b[38;5;28;01mwith\u001b[39;00m \u001b[38;5;28;43mopen\u001b[39;49m\u001b[43m(\u001b[49m\u001b[43mcsv_file_location\u001b[49m\u001b[43m)\u001b[49m \u001b[38;5;28;01mas\u001b[39;00m cs:\n\u001b[0;32m      4\u001b[0m         csv\u001b[38;5;241m.\u001b[39mregister_dialect(\u001b[38;5;124m'\u001b[39m\u001b[38;5;124mempDialect\u001b[39m\u001b[38;5;124m'\u001b[39m, skipinitialspace\u001b[38;5;241m=\u001b[39m\u001b[38;5;28;01mTrue\u001b[39;00m, strict\u001b[38;5;241m=\u001b[39m\u001b[38;5;28;01mTrue\u001b[39;00m)\n\u001b[0;32m      5\u001b[0m         employee_file \u001b[38;5;241m=\u001b[39m csv\u001b[38;5;241m.\u001b[39mDictReader(\u001b[38;5;28mopen\u001b[39m(csv_file_location), dialect \u001b[38;5;241m=\u001b[39m \u001b[38;5;124m'\u001b[39m\u001b[38;5;124mempDialect\u001b[39m\u001b[38;5;124m'\u001b[39m)\n",
      "\u001b[1;31mFileNotFoundError\u001b[0m: [Errno 2] No such file or directory: '/home/<username>/data/employees.csv'"
     ]
    }
   ],
   "source": [
    "import csv\n",
    "def read_employees(csv_file_location):\n",
    "    with open(csv_file_location) as cs:\n",
    "        csv.register_dialect('empDialect', skipinitialspace=True, strict=True)\n",
    "        employee_file = csv.DictReader(open(csv_file_location), dialect = 'empDialect')\n",
    "        employee_list = []\n",
    "        for data in employee_file:\n",
    "            employee_list.append(data)\n",
    "        return employee_list\n",
    "    \n",
    "employee_list = read_employees('/home/<username>/data/employees.csv')\n",
    "print(employee_list)  \n"
   ]
  },
  {
   "cell_type": "code",
   "execution_count": 10,
   "id": "30d13102",
   "metadata": {},
   "outputs": [
    {
     "ename": "NameError",
     "evalue": "name 'employee_list' is not defined",
     "output_type": "error",
     "traceback": [
      "\u001b[1;31m---------------------------------------------------------------------------\u001b[0m",
      "\u001b[1;31mNameError\u001b[0m                                 Traceback (most recent call last)",
      "Input \u001b[1;32mIn [10]\u001b[0m, in \u001b[0;36m<cell line: 10>\u001b[1;34m()\u001b[0m\n\u001b[0;32m      7\u001b[0m         department_data[department_name] \u001b[38;5;241m=\u001b[39m department_list\u001b[38;5;241m.\u001b[39mcount(department_name)\n\u001b[0;32m      8\u001b[0m     \u001b[38;5;28;01mreturn\u001b[39;00m department_data\n\u001b[1;32m---> 10\u001b[0m dictionary \u001b[38;5;241m=\u001b[39m process_data(\u001b[43memployee_list\u001b[49m)\n\u001b[0;32m     11\u001b[0m \u001b[38;5;28mprint\u001b[39m(dictionary)\n",
      "\u001b[1;31mNameError\u001b[0m: name 'employee_list' is not defined"
     ]
    }
   ],
   "source": [
    "def process_data(employee_list):\n",
    "    department_list = []\n",
    "    for employee_data in employee_list:\n",
    "        department_list.append(employee_data['Department'])\n",
    "    department_data = {}\n",
    "    for department_name in set(department_list):\n",
    "        department_data[department_name] = department_list.count(department_name)\n",
    "    return department_data\n",
    "\n",
    "dictionary = process_data(employee_list)\n",
    "print(dictionary)"
   ]
  },
  {
   "cell_type": "code",
   "execution_count": null,
   "id": "fc8d8caa",
   "metadata": {},
   "outputs": [],
   "source": [
    "def write_report(dictionary, report_file):\n",
    "    with open(report_file, \"w+\") as f:\n",
    "        for k in sorted(dictionary):\n",
    "            f.write(str(k)+':'+str(dictionary[k])+'\\n')\n",
    "        f.close()\n",
    "write_report(dictionary, '/home/<username>/data/report.txt')\n"
   ]
  }
 ],
 "metadata": {
  "kernelspec": {
   "display_name": "Python 3 (ipykernel)",
   "language": "python",
   "name": "python3"
  },
  "language_info": {
   "codemirror_mode": {
    "name": "ipython",
    "version": 3
   },
   "file_extension": ".py",
   "mimetype": "text/x-python",
   "name": "python",
   "nbconvert_exporter": "python",
   "pygments_lexer": "ipython3",
   "version": "3.9.12"
  }
 },
 "nbformat": 4,
 "nbformat_minor": 5
}
