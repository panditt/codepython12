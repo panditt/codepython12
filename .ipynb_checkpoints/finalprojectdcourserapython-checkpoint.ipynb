{
 "cells": [
  {
   "cell_type": "markdown",
   "id": "fe0d4819",
   "metadata": {},
   "source": [
    "#  FINAL PROJECT - WordCloud\n",
    "For this project, you'll create a \"word cloud\" from a text by writing a script. This script needs to process the text, remove punctuation, ignore case and words that do not contain all alphabets, count the frequencies, and ignore uninteresting or irrelevant words. A dictionary is the output of the calculate_frequencies function. The wordcloud module will then generate the image from your dictionary.\n",
    "\n",
    "For the input text of your script, you will need to provide a file that contains text only. For the text itself, you can copy and paste the contents of a website you like. Or you can use a site like Project Gutenberg to find books that are available online. You could see what word clouds you can get from famous books, like a Shakespeare play or a novel by Jane Austen. Save this as a .txt file somewhere on your computer.\n",
    "\n",
    "Now you will need to upload your input file here so that your script will be able to process it. To do the upload, you will need an uploader widget. Run the following cell to perform all the installs and imports for your word cloud script and uploader widget. It may take a minute for all of this to run and there will be a lot of output messages. But, be patient. Once you get the following final line of output, the code is done executing. Then you can continue on with the rest of the instructions for this notebook.\n",
    "\n",
    "<b>Enabling notebook extension fileupload/extension... \n",
    "\n",
    "   - Validating: OK </b>"
   ]
  },
  {
   "cell_type": "code",
   "execution_count": 1,
   "id": "01460467",
   "metadata": {},
   "outputs": [
    {
     "name": "stdout",
     "output_type": "stream",
     "text": [
      "Requirement already satisfied: wordcloud in c:\\users\\nitin\\anaconda3\\lib\\site-packages (1.8.2.2)\n",
      "Requirement already satisfied: pillow in c:\\users\\nitin\\anaconda3\\lib\\site-packages (from wordcloud) (9.0.1)\n",
      "Requirement already satisfied: numpy>=1.6.1 in c:\\users\\nitin\\anaconda3\\lib\\site-packages (from wordcloud) (1.21.5)\n",
      "Requirement already satisfied: matplotlib in c:\\users\\nitin\\anaconda3\\lib\\site-packages (from wordcloud) (3.5.1)\n",
      "Requirement already satisfied: python-dateutil>=2.7 in c:\\users\\nitin\\anaconda3\\lib\\site-packages (from matplotlib->wordcloud) (2.8.2)\n",
      "Requirement already satisfied: cycler>=0.10 in c:\\users\\nitin\\anaconda3\\lib\\site-packages (from matplotlib->wordcloud) (0.11.0)\n",
      "Requirement already satisfied: pyparsing>=2.2.1 in c:\\users\\nitin\\anaconda3\\lib\\site-packages (from matplotlib->wordcloud) (3.0.4)\n",
      "Requirement already satisfied: packaging>=20.0 in c:\\users\\nitin\\anaconda3\\lib\\site-packages (from matplotlib->wordcloud) (21.3)\n",
      "Requirement already satisfied: fonttools>=4.22.0 in c:\\users\\nitin\\anaconda3\\lib\\site-packages (from matplotlib->wordcloud) (4.25.0)\n",
      "Requirement already satisfied: kiwisolver>=1.0.1 in c:\\users\\nitin\\anaconda3\\lib\\site-packages (from matplotlib->wordcloud) (1.3.2)\n",
      "Requirement already satisfied: six>=1.5 in c:\\users\\nitin\\anaconda3\\lib\\site-packages (from python-dateutil>=2.7->matplotlib->wordcloud) (1.16.0)\n",
      "Requirement already satisfied: fileupload in c:\\users\\nitin\\anaconda3\\lib\\site-packages (0.1.5)\n",
      "Requirement already satisfied: notebook>=4.2 in c:\\users\\nitin\\anaconda3\\lib\\site-packages (from fileupload) (6.4.8)\n",
      "Requirement already satisfied: traitlets>=4.2 in c:\\users\\nitin\\anaconda3\\lib\\site-packages (from fileupload) (5.1.1)\n",
      "Requirement already satisfied: ipywidgets>=5.1 in c:\\users\\nitin\\anaconda3\\lib\\site-packages (from fileupload) (7.6.5)\n",
      "Requirement already satisfied: ipython>=4.0.0 in c:\\users\\nitin\\anaconda3\\lib\\site-packages (from ipywidgets>=5.1->fileupload) (8.2.0)\n",
      "Requirement already satisfied: nbformat>=4.2.0 in c:\\users\\nitin\\anaconda3\\lib\\site-packages (from ipywidgets>=5.1->fileupload) (5.3.0)\n",
      "Requirement already satisfied: jupyterlab-widgets>=1.0.0 in c:\\users\\nitin\\anaconda3\\lib\\site-packages (from ipywidgets>=5.1->fileupload) (1.0.0)\n",
      "Requirement already satisfied: widgetsnbextension~=3.5.0 in c:\\users\\nitin\\anaconda3\\lib\\site-packages (from ipywidgets>=5.1->fileupload) (3.5.2)\n",
      "Requirement already satisfied: ipykernel>=4.5.1 in c:\\users\\nitin\\anaconda3\\lib\\site-packages (from ipywidgets>=5.1->fileupload) (6.9.1)\n",
      "Requirement already satisfied: ipython-genutils~=0.2.0 in c:\\users\\nitin\\anaconda3\\lib\\site-packages (from ipywidgets>=5.1->fileupload) (0.2.0)\n",
      "Requirement already satisfied: tornado<7.0,>=4.2 in c:\\users\\nitin\\anaconda3\\lib\\site-packages (from ipykernel>=4.5.1->ipywidgets>=5.1->fileupload) (6.1)\n",
      "Requirement already satisfied: jupyter-client<8.0 in c:\\users\\nitin\\anaconda3\\lib\\site-packages (from ipykernel>=4.5.1->ipywidgets>=5.1->fileupload) (6.1.12)\n",
      "Requirement already satisfied: debugpy<2.0,>=1.0.0 in c:\\users\\nitin\\anaconda3\\lib\\site-packages (from ipykernel>=4.5.1->ipywidgets>=5.1->fileupload) (1.5.1)\n",
      "Requirement already satisfied: nest-asyncio in c:\\users\\nitin\\anaconda3\\lib\\site-packages (from ipykernel>=4.5.1->ipywidgets>=5.1->fileupload) (1.5.5)\n",
      "Requirement already satisfied: matplotlib-inline<0.2.0,>=0.1.0 in c:\\users\\nitin\\anaconda3\\lib\\site-packages (from ipykernel>=4.5.1->ipywidgets>=5.1->fileupload) (0.1.2)\n",
      "Requirement already satisfied: pickleshare in c:\\users\\nitin\\anaconda3\\lib\\site-packages (from ipython>=4.0.0->ipywidgets>=5.1->fileupload) (0.7.5)\n",
      "Requirement already satisfied: setuptools>=18.5 in c:\\users\\nitin\\anaconda3\\lib\\site-packages (from ipython>=4.0.0->ipywidgets>=5.1->fileupload) (61.2.0)\n",
      "Requirement already satisfied: prompt-toolkit!=3.0.0,!=3.0.1,<3.1.0,>=2.0.0 in c:\\users\\nitin\\anaconda3\\lib\\site-packages (from ipython>=4.0.0->ipywidgets>=5.1->fileupload) (3.0.20)\n",
      "Requirement already satisfied: pygments>=2.4.0 in c:\\users\\nitin\\anaconda3\\lib\\site-packages (from ipython>=4.0.0->ipywidgets>=5.1->fileupload) (2.11.2)\n",
      "Requirement already satisfied: stack-data in c:\\users\\nitin\\anaconda3\\lib\\site-packages (from ipython>=4.0.0->ipywidgets>=5.1->fileupload) (0.2.0)\n",
      "Requirement already satisfied: decorator in c:\\users\\nitin\\anaconda3\\lib\\site-packages (from ipython>=4.0.0->ipywidgets>=5.1->fileupload) (5.1.1)\n",
      "Requirement already satisfied: backcall in c:\\users\\nitin\\anaconda3\\lib\\site-packages (from ipython>=4.0.0->ipywidgets>=5.1->fileupload) (0.2.0)\n",
      "Requirement already satisfied: jedi>=0.16 in c:\\users\\nitin\\anaconda3\\lib\\site-packages (from ipython>=4.0.0->ipywidgets>=5.1->fileupload) (0.18.1)\n",
      "Requirement already satisfied: colorama in c:\\users\\nitin\\anaconda3\\lib\\site-packages (from ipython>=4.0.0->ipywidgets>=5.1->fileupload) (0.4.4)\n",
      "Requirement already satisfied: parso<0.9.0,>=0.8.0 in c:\\users\\nitin\\anaconda3\\lib\\site-packages (from jedi>=0.16->ipython>=4.0.0->ipywidgets>=5.1->fileupload) (0.8.3)\n",
      "Requirement already satisfied: jupyter-core>=4.6.0 in c:\\users\\nitin\\anaconda3\\lib\\site-packages (from jupyter-client<8.0->ipykernel>=4.5.1->ipywidgets>=5.1->fileupload) (4.9.2)\n",
      "Requirement already satisfied: pyzmq>=13 in c:\\users\\nitin\\anaconda3\\lib\\site-packages (from jupyter-client<8.0->ipykernel>=4.5.1->ipywidgets>=5.1->fileupload) (22.3.0)\n",
      "Requirement already satisfied: python-dateutil>=2.1 in c:\\users\\nitin\\anaconda3\\lib\\site-packages (from jupyter-client<8.0->ipykernel>=4.5.1->ipywidgets>=5.1->fileupload) (2.8.2)\n",
      "Requirement already satisfied: pywin32>=1.0 in c:\\users\\nitin\\anaconda3\\lib\\site-packages (from jupyter-core>=4.6.0->jupyter-client<8.0->ipykernel>=4.5.1->ipywidgets>=5.1->fileupload) (302)\n",
      "Requirement already satisfied: fastjsonschema in c:\\users\\nitin\\anaconda3\\lib\\site-packages (from nbformat>=4.2.0->ipywidgets>=5.1->fileupload) (2.15.1)\n",
      "Requirement already satisfied: jsonschema>=2.6 in c:\\users\\nitin\\anaconda3\\lib\\site-packages (from nbformat>=4.2.0->ipywidgets>=5.1->fileupload) (4.4.0)\n",
      "Requirement already satisfied: attrs>=17.4.0 in c:\\users\\nitin\\anaconda3\\lib\\site-packages (from jsonschema>=2.6->nbformat>=4.2.0->ipywidgets>=5.1->fileupload) (21.4.0)\n",
      "Requirement already satisfied: pyrsistent!=0.17.0,!=0.17.1,!=0.17.2,>=0.14.0 in c:\\users\\nitin\\anaconda3\\lib\\site-packages (from jsonschema>=2.6->nbformat>=4.2.0->ipywidgets>=5.1->fileupload) (0.18.0)\n",
      "Requirement already satisfied: prometheus-client in c:\\users\\nitin\\anaconda3\\lib\\site-packages (from notebook>=4.2->fileupload) (0.13.1)\n",
      "Requirement already satisfied: Send2Trash>=1.8.0 in c:\\users\\nitin\\anaconda3\\lib\\site-packages (from notebook>=4.2->fileupload) (1.8.0)\n",
      "Requirement already satisfied: nbconvert in c:\\users\\nitin\\anaconda3\\lib\\site-packages (from notebook>=4.2->fileupload) (6.4.4)\n",
      "Requirement already satisfied: argon2-cffi in c:\\users\\nitin\\anaconda3\\lib\\site-packages (from notebook>=4.2->fileupload) (21.3.0)\n",
      "Requirement already satisfied: jinja2 in c:\\users\\nitin\\anaconda3\\lib\\site-packages (from notebook>=4.2->fileupload) (2.11.3)\n",
      "Requirement already satisfied: terminado>=0.8.3 in c:\\users\\nitin\\anaconda3\\lib\\site-packages (from notebook>=4.2->fileupload) (0.13.1)\n",
      "Requirement already satisfied: wcwidth in c:\\users\\nitin\\anaconda3\\lib\\site-packages (from prompt-toolkit!=3.0.0,!=3.0.1,<3.1.0,>=2.0.0->ipython>=4.0.0->ipywidgets>=5.1->fileupload) (0.2.5)\n",
      "Requirement already satisfied: six>=1.5 in c:\\users\\nitin\\anaconda3\\lib\\site-packages (from python-dateutil>=2.1->jupyter-client<8.0->ipykernel>=4.5.1->ipywidgets>=5.1->fileupload) (1.16.0)\n",
      "Requirement already satisfied: pywinpty>=1.1.0 in c:\\users\\nitin\\anaconda3\\lib\\site-packages (from terminado>=0.8.3->notebook>=4.2->fileupload) (2.0.2)\n",
      "Requirement already satisfied: argon2-cffi-bindings in c:\\users\\nitin\\anaconda3\\lib\\site-packages (from argon2-cffi->notebook>=4.2->fileupload) (21.2.0)\n",
      "Requirement already satisfied: cffi>=1.0.1 in c:\\users\\nitin\\anaconda3\\lib\\site-packages (from argon2-cffi-bindings->argon2-cffi->notebook>=4.2->fileupload) (1.15.0)\n",
      "Requirement already satisfied: pycparser in c:\\users\\nitin\\anaconda3\\lib\\site-packages (from cffi>=1.0.1->argon2-cffi-bindings->argon2-cffi->notebook>=4.2->fileupload) (2.21)\n",
      "Requirement already satisfied: MarkupSafe>=0.23 in c:\\users\\nitin\\anaconda3\\lib\\site-packages (from jinja2->notebook>=4.2->fileupload) (2.0.1)\n",
      "Requirement already satisfied: entrypoints>=0.2.2 in c:\\users\\nitin\\anaconda3\\lib\\site-packages (from nbconvert->notebook>=4.2->fileupload) (0.4)\n",
      "Requirement already satisfied: nbclient<0.6.0,>=0.5.0 in c:\\users\\nitin\\anaconda3\\lib\\site-packages (from nbconvert->notebook>=4.2->fileupload) (0.5.13)\n",
      "Requirement already satisfied: pandocfilters>=1.4.1 in c:\\users\\nitin\\anaconda3\\lib\\site-packages (from nbconvert->notebook>=4.2->fileupload) (1.5.0)\n",
      "Requirement already satisfied: defusedxml in c:\\users\\nitin\\anaconda3\\lib\\site-packages (from nbconvert->notebook>=4.2->fileupload) (0.7.1)\n",
      "Requirement already satisfied: beautifulsoup4 in c:\\users\\nitin\\anaconda3\\lib\\site-packages (from nbconvert->notebook>=4.2->fileupload) (4.11.1)\n",
      "Requirement already satisfied: testpath in c:\\users\\nitin\\anaconda3\\lib\\site-packages (from nbconvert->notebook>=4.2->fileupload) (0.5.0)\n",
      "Requirement already satisfied: bleach in c:\\users\\nitin\\anaconda3\\lib\\site-packages (from nbconvert->notebook>=4.2->fileupload) (4.1.0)\n",
      "Requirement already satisfied: jupyterlab-pygments in c:\\users\\nitin\\anaconda3\\lib\\site-packages (from nbconvert->notebook>=4.2->fileupload) (0.1.2)\n",
      "Requirement already satisfied: mistune<2,>=0.8.1 in c:\\users\\nitin\\anaconda3\\lib\\site-packages (from nbconvert->notebook>=4.2->fileupload) (0.8.4)\n",
      "Requirement already satisfied: soupsieve>1.2 in c:\\users\\nitin\\anaconda3\\lib\\site-packages (from beautifulsoup4->nbconvert->notebook>=4.2->fileupload) (2.3.1)\n",
      "Requirement already satisfied: webencodings in c:\\users\\nitin\\anaconda3\\lib\\site-packages (from bleach->nbconvert->notebook>=4.2->fileupload) (0.5.1)\n",
      "Requirement already satisfied: packaging in c:\\users\\nitin\\anaconda3\\lib\\site-packages (from bleach->nbconvert->notebook>=4.2->fileupload) (21.3)\n",
      "Requirement already satisfied: pyparsing!=3.0.5,>=2.0.2 in c:\\users\\nitin\\anaconda3\\lib\\site-packages (from packaging->bleach->nbconvert->notebook>=4.2->fileupload) (3.0.4)\n",
      "Requirement already satisfied: asttokens in c:\\users\\nitin\\anaconda3\\lib\\site-packages (from stack-data->ipython>=4.0.0->ipywidgets>=5.1->fileupload) (2.0.5)\n",
      "Requirement already satisfied: executing in c:\\users\\nitin\\anaconda3\\lib\\site-packages (from stack-data->ipython>=4.0.0->ipywidgets>=5.1->fileupload) (0.8.3)\n",
      "Requirement already satisfied: pure-eval in c:\\users\\nitin\\anaconda3\\lib\\site-packages (from stack-data->ipython>=4.0.0->ipywidgets>=5.1->fileupload) (0.2.2)\n"
     ]
    },
    {
     "name": "stdout",
     "output_type": "stream",
     "text": [
      "Requirement already satisfied: ipywidgets in c:\\users\\nitin\\anaconda3\\lib\\site-packages (7.6.5)\n",
      "Requirement already satisfied: nbformat>=4.2.0 in c:\\users\\nitin\\anaconda3\\lib\\site-packages (from ipywidgets) (5.3.0)\n",
      "Requirement already satisfied: traitlets>=4.3.1 in c:\\users\\nitin\\anaconda3\\lib\\site-packages (from ipywidgets) (5.1.1)\n",
      "Requirement already satisfied: ipykernel>=4.5.1 in c:\\users\\nitin\\anaconda3\\lib\\site-packages (from ipywidgets) (6.9.1)\n",
      "Requirement already satisfied: ipython-genutils~=0.2.0 in c:\\users\\nitin\\anaconda3\\lib\\site-packages (from ipywidgets) (0.2.0)\n",
      "Requirement already satisfied: jupyterlab-widgets>=1.0.0 in c:\\users\\nitin\\anaconda3\\lib\\site-packages (from ipywidgets) (1.0.0)\n",
      "Requirement already satisfied: widgetsnbextension~=3.5.0 in c:\\users\\nitin\\anaconda3\\lib\\site-packages (from ipywidgets) (3.5.2)\n",
      "Requirement already satisfied: ipython>=4.0.0 in c:\\users\\nitin\\anaconda3\\lib\\site-packages (from ipywidgets) (8.2.0)\n",
      "Requirement already satisfied: nest-asyncio in c:\\users\\nitin\\anaconda3\\lib\\site-packages (from ipykernel>=4.5.1->ipywidgets) (1.5.5)\n",
      "Requirement already satisfied: matplotlib-inline<0.2.0,>=0.1.0 in c:\\users\\nitin\\anaconda3\\lib\\site-packages (from ipykernel>=4.5.1->ipywidgets) (0.1.2)\n",
      "Requirement already satisfied: debugpy<2.0,>=1.0.0 in c:\\users\\nitin\\anaconda3\\lib\\site-packages (from ipykernel>=4.5.1->ipywidgets) (1.5.1)\n",
      "Requirement already satisfied: tornado<7.0,>=4.2 in c:\\users\\nitin\\anaconda3\\lib\\site-packages (from ipykernel>=4.5.1->ipywidgets) (6.1)\n",
      "Requirement already satisfied: jupyter-client<8.0 in c:\\users\\nitin\\anaconda3\\lib\\site-packages (from ipykernel>=4.5.1->ipywidgets) (6.1.12)\n",
      "Requirement already satisfied: pickleshare in c:\\users\\nitin\\anaconda3\\lib\\site-packages (from ipython>=4.0.0->ipywidgets) (0.7.5)\n",
      "Requirement already satisfied: setuptools>=18.5 in c:\\users\\nitin\\anaconda3\\lib\\site-packages (from ipython>=4.0.0->ipywidgets) (61.2.0)\n",
      "Requirement already satisfied: backcall in c:\\users\\nitin\\anaconda3\\lib\\site-packages (from ipython>=4.0.0->ipywidgets) (0.2.0)\n",
      "Requirement already satisfied: decorator in c:\\users\\nitin\\anaconda3\\lib\\site-packages (from ipython>=4.0.0->ipywidgets) (5.1.1)\n",
      "Requirement already satisfied: jedi>=0.16 in c:\\users\\nitin\\anaconda3\\lib\\site-packages (from ipython>=4.0.0->ipywidgets) (0.18.1)\n",
      "Requirement already satisfied: prompt-toolkit!=3.0.0,!=3.0.1,<3.1.0,>=2.0.0 in c:\\users\\nitin\\anaconda3\\lib\\site-packages (from ipython>=4.0.0->ipywidgets) (3.0.20)\n",
      "Requirement already satisfied: stack-data in c:\\users\\nitin\\anaconda3\\lib\\site-packages (from ipython>=4.0.0->ipywidgets) (0.2.0)\n",
      "Requirement already satisfied: pygments>=2.4.0 in c:\\users\\nitin\\anaconda3\\lib\\site-packages (from ipython>=4.0.0->ipywidgets) (2.11.2)\n",
      "Requirement already satisfied: colorama in c:\\users\\nitin\\anaconda3\\lib\\site-packages (from ipython>=4.0.0->ipywidgets) (0.4.4)\n",
      "Requirement already satisfied: parso<0.9.0,>=0.8.0 in c:\\users\\nitin\\anaconda3\\lib\\site-packages (from jedi>=0.16->ipython>=4.0.0->ipywidgets) (0.8.3)\n",
      "Requirement already satisfied: python-dateutil>=2.1 in c:\\users\\nitin\\anaconda3\\lib\\site-packages (from jupyter-client<8.0->ipykernel>=4.5.1->ipywidgets) (2.8.2)\n",
      "Requirement already satisfied: jupyter-core>=4.6.0 in c:\\users\\nitin\\anaconda3\\lib\\site-packages (from jupyter-client<8.0->ipykernel>=4.5.1->ipywidgets) (4.9.2)\n",
      "Requirement already satisfied: pyzmq>=13 in c:\\users\\nitin\\anaconda3\\lib\\site-packages (from jupyter-client<8.0->ipykernel>=4.5.1->ipywidgets) (22.3.0)\n",
      "Requirement already satisfied: pywin32>=1.0 in c:\\users\\nitin\\anaconda3\\lib\\site-packages (from jupyter-core>=4.6.0->jupyter-client<8.0->ipykernel>=4.5.1->ipywidgets) (302)\n",
      "Requirement already satisfied: jsonschema>=2.6 in c:\\users\\nitin\\anaconda3\\lib\\site-packages (from nbformat>=4.2.0->ipywidgets) (4.4.0)\n",
      "Requirement already satisfied: fastjsonschema in c:\\users\\nitin\\anaconda3\\lib\\site-packages (from nbformat>=4.2.0->ipywidgets) (2.15.1)\n",
      "Requirement already satisfied: attrs>=17.4.0 in c:\\users\\nitin\\anaconda3\\lib\\site-packages (from jsonschema>=2.6->nbformat>=4.2.0->ipywidgets) (21.4.0)\n",
      "Requirement already satisfied: pyrsistent!=0.17.0,!=0.17.1,!=0.17.2,>=0.14.0 in c:\\users\\nitin\\anaconda3\\lib\\site-packages (from jsonschema>=2.6->nbformat>=4.2.0->ipywidgets) (0.18.0)\n",
      "Requirement already satisfied: wcwidth in c:\\users\\nitin\\anaconda3\\lib\\site-packages (from prompt-toolkit!=3.0.0,!=3.0.1,<3.1.0,>=2.0.0->ipython>=4.0.0->ipywidgets) (0.2.5)\n",
      "Requirement already satisfied: six>=1.5 in c:\\users\\nitin\\anaconda3\\lib\\site-packages (from python-dateutil>=2.1->jupyter-client<8.0->ipykernel>=4.5.1->ipywidgets) (1.16.0)\n",
      "Requirement already satisfied: notebook>=4.4.1 in c:\\users\\nitin\\anaconda3\\lib\\site-packages (from widgetsnbextension~=3.5.0->ipywidgets) (6.4.8)\n",
      "Requirement already satisfied: argon2-cffi in c:\\users\\nitin\\anaconda3\\lib\\site-packages (from notebook>=4.4.1->widgetsnbextension~=3.5.0->ipywidgets) (21.3.0)\n",
      "Requirement already satisfied: Send2Trash>=1.8.0 in c:\\users\\nitin\\anaconda3\\lib\\site-packages (from notebook>=4.4.1->widgetsnbextension~=3.5.0->ipywidgets) (1.8.0)\n",
      "Requirement already satisfied: prometheus-client in c:\\users\\nitin\\anaconda3\\lib\\site-packages (from notebook>=4.4.1->widgetsnbextension~=3.5.0->ipywidgets) (0.13.1)\n",
      "Requirement already satisfied: jinja2 in c:\\users\\nitin\\anaconda3\\lib\\site-packages (from notebook>=4.4.1->widgetsnbextension~=3.5.0->ipywidgets) (2.11.3)\n",
      "Requirement already satisfied: nbconvert in c:\\users\\nitin\\anaconda3\\lib\\site-packages (from notebook>=4.4.1->widgetsnbextension~=3.5.0->ipywidgets) (6.4.4)\n",
      "Requirement already satisfied: terminado>=0.8.3 in c:\\users\\nitin\\anaconda3\\lib\\site-packages (from notebook>=4.4.1->widgetsnbextension~=3.5.0->ipywidgets) (0.13.1)\n",
      "Requirement already satisfied: pywinpty>=1.1.0 in c:\\users\\nitin\\anaconda3\\lib\\site-packages (from terminado>=0.8.3->notebook>=4.4.1->widgetsnbextension~=3.5.0->ipywidgets) (2.0.2)\n",
      "Requirement already satisfied: argon2-cffi-bindings in c:\\users\\nitin\\anaconda3\\lib\\site-packages (from argon2-cffi->notebook>=4.4.1->widgetsnbextension~=3.5.0->ipywidgets) (21.2.0)\n",
      "Requirement already satisfied: cffi>=1.0.1 in c:\\users\\nitin\\anaconda3\\lib\\site-packages (from argon2-cffi-bindings->argon2-cffi->notebook>=4.4.1->widgetsnbextension~=3.5.0->ipywidgets) (1.15.0)\n",
      "Requirement already satisfied: pycparser in c:\\users\\nitin\\anaconda3\\lib\\site-packages (from cffi>=1.0.1->argon2-cffi-bindings->argon2-cffi->notebook>=4.4.1->widgetsnbextension~=3.5.0->ipywidgets) (2.21)\n",
      "Requirement already satisfied: MarkupSafe>=0.23 in c:\\users\\nitin\\anaconda3\\lib\\site-packages (from jinja2->notebook>=4.4.1->widgetsnbextension~=3.5.0->ipywidgets) (2.0.1)\n",
      "Requirement already satisfied: mistune<2,>=0.8.1 in c:\\users\\nitin\\anaconda3\\lib\\site-packages (from nbconvert->notebook>=4.4.1->widgetsnbextension~=3.5.0->ipywidgets) (0.8.4)\n",
      "Requirement already satisfied: beautifulsoup4 in c:\\users\\nitin\\anaconda3\\lib\\site-packages (from nbconvert->notebook>=4.4.1->widgetsnbextension~=3.5.0->ipywidgets) (4.11.1)\n",
      "Requirement already satisfied: jupyterlab-pygments in c:\\users\\nitin\\anaconda3\\lib\\site-packages (from nbconvert->notebook>=4.4.1->widgetsnbextension~=3.5.0->ipywidgets) (0.1.2)\n",
      "Requirement already satisfied: testpath in c:\\users\\nitin\\anaconda3\\lib\\site-packages (from nbconvert->notebook>=4.4.1->widgetsnbextension~=3.5.0->ipywidgets) (0.5.0)\n",
      "Requirement already satisfied: defusedxml in c:\\users\\nitin\\anaconda3\\lib\\site-packages (from nbconvert->notebook>=4.4.1->widgetsnbextension~=3.5.0->ipywidgets) (0.7.1)\n",
      "Requirement already satisfied: nbclient<0.6.0,>=0.5.0 in c:\\users\\nitin\\anaconda3\\lib\\site-packages (from nbconvert->notebook>=4.4.1->widgetsnbextension~=3.5.0->ipywidgets) (0.5.13)\n",
      "Requirement already satisfied: pandocfilters>=1.4.1 in c:\\users\\nitin\\anaconda3\\lib\\site-packages (from nbconvert->notebook>=4.4.1->widgetsnbextension~=3.5.0->ipywidgets) (1.5.0)\n",
      "Requirement already satisfied: bleach in c:\\users\\nitin\\anaconda3\\lib\\site-packages (from nbconvert->notebook>=4.4.1->widgetsnbextension~=3.5.0->ipywidgets) (4.1.0)\n",
      "Requirement already satisfied: entrypoints>=0.2.2 in c:\\users\\nitin\\anaconda3\\lib\\site-packages (from nbconvert->notebook>=4.4.1->widgetsnbextension~=3.5.0->ipywidgets) (0.4)\n",
      "Requirement already satisfied: soupsieve>1.2 in c:\\users\\nitin\\anaconda3\\lib\\site-packages (from beautifulsoup4->nbconvert->notebook>=4.4.1->widgetsnbextension~=3.5.0->ipywidgets) (2.3.1)\n",
      "Requirement already satisfied: packaging in c:\\users\\nitin\\anaconda3\\lib\\site-packages (from bleach->nbconvert->notebook>=4.4.1->widgetsnbextension~=3.5.0->ipywidgets) (21.3)\n",
      "Requirement already satisfied: webencodings in c:\\users\\nitin\\anaconda3\\lib\\site-packages (from bleach->nbconvert->notebook>=4.4.1->widgetsnbextension~=3.5.0->ipywidgets) (0.5.1)\n",
      "Requirement already satisfied: pyparsing!=3.0.5,>=2.0.2 in c:\\users\\nitin\\anaconda3\\lib\\site-packages (from packaging->bleach->nbconvert->notebook>=4.4.1->widgetsnbextension~=3.5.0->ipywidgets) (3.0.4)\n",
      "Requirement already satisfied: asttokens in c:\\users\\nitin\\anaconda3\\lib\\site-packages (from stack-data->ipython>=4.0.0->ipywidgets) (2.0.5)\n",
      "Requirement already satisfied: pure-eval in c:\\users\\nitin\\anaconda3\\lib\\site-packages (from stack-data->ipython>=4.0.0->ipywidgets) (0.2.2)\n",
      "Requirement already satisfied: executing in c:\\users\\nitin\\anaconda3\\lib\\site-packages (from stack-data->ipython>=4.0.0->ipywidgets) (0.8.3)\n"
     ]
    },
    {
     "name": "stderr",
     "output_type": "stream",
     "text": [
      "Installing C:\\Users\\Nitin\\anaconda3\\lib\\site-packages\\fileupload\\static -> fileupload\n",
      "Up to date: C:\\Users\\Nitin\\AppData\\Roaming\\jupyter\\nbextensions\\fileupload\\extension.js\n",
      "Up to date: C:\\Users\\Nitin\\AppData\\Roaming\\jupyter\\nbextensions\\fileupload\\widget.js\n",
      "Up to date: C:\\Users\\Nitin\\AppData\\Roaming\\jupyter\\nbextensions\\fileupload\\fileupload\\widget.js\n",
      "- Validating: ok\n",
      "\n",
      "    To initialize this nbextension in the browser every time the notebook (or other app) loads:\n",
      "    \n",
      "          jupyter nbextension enable fileupload --user --py\n",
      "    \n",
      "Enabling notebook extension fileupload/extension...\n",
      "      - Validating: ok\n"
     ]
    }
   ],
   "source": [
    "\"installing the required modules and importing them to work in the project\"\n",
    "!pip install wordcloud\n",
    "!pip install fileupload\n",
    "!pip install ipywidgets\n",
    "!jupyter nbextension install --py --user fileupload\n",
    "!jupyter nbextension enable --py fileupload\n",
    "\n",
    "import wordcloud\n",
    "import numpy as np\n",
    "from matplotlib import pyplot as plt\n",
    "from IPython.display import display\n",
    "import fileupload\n",
    "import io\n",
    "import sys\n"
   ]
  },
  {
   "cell_type": "markdown",
   "id": "df38b91f",
   "metadata": {},
   "source": [
    "Whew! That was a lot. All of the installs and imports for your word cloud script and uploader widget have been completed.\n",
    "\n",
    "<b>IMPORTANT!  <b>  If this was your first time running the above cell containing the installs and imports, you will need save this notebook now. Then under the File menu above, select Close and Halt. When the notebook has completely shut down, reopen it. This is the only way the necessary changes will take affect.\n",
    "\n",
    "To upload your text file, run the following cell that contains all the code for a custom uploader widget. Once you run this cell, a \"Browse\" button should appear below it. Click this button and navigate the window to locate your saved text file."
   ]
  },
  {
   "cell_type": "code",
   "execution_count": 5,
   "id": "7a7aa94f",
   "metadata": {},
   "outputs": [
    {
     "data": {
      "application/vnd.jupyter.widget-view+json": {
       "model_id": "707ce0936acf435f9944c74a87f78c0b",
       "version_major": 2,
       "version_minor": 0
      },
      "text/plain": [
       "FileUploadWidget(label='Browse', _dom_classes=('widget_item', 'btn-group'))"
      ]
     },
     "metadata": {},
     "output_type": "display_data"
    },
    {
     "name": "stdout",
     "output_type": "stream",
     "text": [
      "Uploaded `projectfinal.txt` (7.29 kB)\n"
     ]
    }
   ],
   "source": [
    "# This is the uploader widget\n",
    "import fileupload\n",
    "import io\n",
    "import wordcloud\n",
    "\n",
    "def Upload():\n",
    "    Upload_widget = fileupload.FileUploadWidget()\n",
    "\n",
    "    def _cb(change):\n",
    "        global file_contents\n",
    "        decoded = io.StringIO(change['owner'].data.decode('utf-8'))\n",
    "        filename = change['owner'].filename\n",
    "        print('Uploaded `{}` ({:.2f} kB)'.format(\n",
    "            filename, len(decoded.read()) / 2 **10))\n",
    "        file_contents = decoded.getvalue()\n",
    "\n",
    "    Upload_widget.observe(_cb, names='data')\n",
    "    display(Upload_widget)\n",
    "\n",
    "Upload()"
   ]
  },
  {
   "cell_type": "markdown",
   "id": "6d5abe90",
   "metadata": {},
   "source": [
    "The uploader widget saved the contents of your uploaded file into a string object named *file_contents* that your word cloud script can process. This was a lot of preliminary work, but you are now ready to begin your script.<br><br>\n",
    "Write a function in the cell below that iterates through the words in *file_contents*, removes punctuation, and counts the frequency of each word.  Oh, and be sure to make it ignore word case, words that do not contain all alphabets and boring words like \"and\" or \"the\".  Then use it in the `generate_from_frequencies` function to generate your very own word cloud!\n",
    "<br><br>\n",
    "**Hint:** Try storing the results of your iteration in a dictionary before passing them into wordcloud via the `generate_from_frequencies` function."
   ]
  },
  {
   "cell_type": "code",
   "execution_count": 18,
   "id": "1c583440",
   "metadata": {},
   "outputs": [],
   "source": [
    "#def calculate_frequencWrite a function in the cell below that iterates through the words in *file_contents*, removes punctuation, and counts the frequency of each word.  Oh, and be sure to make it ignore word case, words that do not contain all alphabets and boring words like \"and\" or \"the\".  Then use it in the `generate_from_frequencies` function to generate your very own word cloud!\n",
    "#<br><br>\n",
    "#**Hint:** Try storing the results of your iteration in a dictionary before passing them into wordcloud via the `generate_from_frequencies` function.ies(file_contents):\n",
    "    # Here is a list of punctuations and uninteresting words you can use to process your text\n",
    "def calculate_frequencies(file_contents):\n",
    "    punctuations = '''!()-[]{};:'\"\\,<>./?@#$%^&*_~'''\n",
    "    uninteresting_words = [\"the\", \"a\", \"to\", \"if\", \"is\", \"it\", \"of\", \"and\", \"or\", \"an\", \"as\", \"i\", \"me\", \"my\", \\\n",
    "    \"we\", \"our\", \"ours\", \"you\", \"your\", \"yours\", \"he\", \"she\", \"him\", \"his\", \"her\", \"hers\", \"its\", \"they\", \"them\", \\\n",
    "    \"their\", \"what\", \"which\", \"who\", \"whom\", \"this\", \"that\", \"am\", \"are\", \"was\", \"were\", \"be\", \"been\", \"being\", \\\n",
    "    \"have\", \"has\", \"had\", \"do\", \"does\", \"did\", \"but\", \"at\", \"by\", \"with\", \"from\", \"here\", \"when\", \"where\", \"how\", \\\n",
    "    \"all\", \"any\", \"both\", \"each\", \"few\", \"more\", \"some\", \"such\", \"no\", \"nor\", \"too\", \"very\", \"can\", \"will\", \"just\"]\n",
    "    frequencies = {}\n",
    "    for content in file_contents:\n",
    "        if content == punctuations or content == uninteresting_words:\n",
    "            pass\n",
    "        else:\n",
    "            frequencies[content] += 1\n",
    "            \n",
    "    # LEARNER CODE START HERE\n",
    "    #wordcloud\n",
    "    cloud = wordcloud.WordCloud()\n",
    "    cloud.generate_from_frequencies()\n",
    "    return cloud.to_array()"
   ]
  },
  {
   "cell_type": "markdown",
   "id": "80847bf1",
   "metadata": {},
   "source": [
    "If you have done everything correctly, your word cloud image should appear after running the cell below.  Fingers crossed!"
   ]
  },
  {
   "cell_type": "code",
   "execution_count": 19,
   "id": "30cf7b7e",
   "metadata": {},
   "outputs": [
    {
     "ename": "KeyError",
     "evalue": "'T'",
     "output_type": "error",
     "traceback": [
      "\u001b[1;31m---------------------------------------------------------------------------\u001b[0m",
      "\u001b[1;31mKeyError\u001b[0m                                  Traceback (most recent call last)",
      "Input \u001b[1;32mIn [19]\u001b[0m, in \u001b[0;36m<cell line: 3>\u001b[1;34m()\u001b[0m\n\u001b[0;32m      1\u001b[0m \u001b[38;5;66;03m# Display your wordcloud image\u001b[39;00m\n\u001b[1;32m----> 3\u001b[0m myimage \u001b[38;5;241m=\u001b[39m \u001b[43mcalculate_frequencies\u001b[49m\u001b[43m(\u001b[49m\u001b[43mfile_contents\u001b[49m\u001b[43m)\u001b[49m\n\u001b[0;32m      4\u001b[0m plt\u001b[38;5;241m.\u001b[39mimshow(myimage, interpolation \u001b[38;5;241m=\u001b[39m \u001b[38;5;124m'\u001b[39m\u001b[38;5;124mnearest\u001b[39m\u001b[38;5;124m'\u001b[39m)\n\u001b[0;32m      5\u001b[0m plt\u001b[38;5;241m.\u001b[39maxis(\u001b[38;5;124m'\u001b[39m\u001b[38;5;124moff\u001b[39m\u001b[38;5;124m'\u001b[39m)\n",
      "Input \u001b[1;32mIn [18]\u001b[0m, in \u001b[0;36mcalculate_frequencies\u001b[1;34m(file_contents)\u001b[0m\n\u001b[0;32m     15\u001b[0m         \u001b[38;5;28;01mpass\u001b[39;00m\n\u001b[0;32m     16\u001b[0m     \u001b[38;5;28;01melse\u001b[39;00m:\n\u001b[1;32m---> 17\u001b[0m         frequencies[content] \u001b[38;5;241m+\u001b[39m\u001b[38;5;241m=\u001b[39m \u001b[38;5;241m1\u001b[39m\n\u001b[0;32m     19\u001b[0m \u001b[38;5;66;03m# LEARNER CODE START HERE\u001b[39;00m\n\u001b[0;32m     20\u001b[0m \u001b[38;5;66;03m#wordcloud\u001b[39;00m\n\u001b[0;32m     21\u001b[0m cloud \u001b[38;5;241m=\u001b[39m wordcloud\u001b[38;5;241m.\u001b[39mWordCloud()\n",
      "\u001b[1;31mKeyError\u001b[0m: 'T'"
     ]
    }
   ],
   "source": [
    "# Display your wordcloud image\n",
    "\n",
    "myimage = calculate_frequencies(file_contents)\n",
    "plt.imshow(myimage, interpolation = 'nearest')\n",
    "plt.axis('off')\n",
    "plt.show()"
   ]
  },
  {
   "cell_type": "markdown",
   "id": "e6df1c5e",
   "metadata": {},
   "source": [
    "If your word cloud image did not appear, go back and rework your `calculate_frequencies` function until you get the desired output.  Definitely check that you passed your frequecy count dictionary into the `generate_from_frequencies` function of `wordcloud`. Once you have correctly displayed your word cloud image, you are all done with this project. Nice work!"
   ]
  }
 ],
 "metadata": {
  "kernelspec": {
   "display_name": "Python 3 (ipykernel)",
   "language": "python",
   "name": "python3"
  },
  "language_info": {
   "codemirror_mode": {
    "name": "ipython",
    "version": 3
   },
   "file_extension": ".py",
   "mimetype": "text/x-python",
   "name": "python",
   "nbconvert_exporter": "python",
   "pygments_lexer": "ipython3",
   "version": "3.9.12"
  }
 },
 "nbformat": 4,
 "nbformat_minor": 5
}
