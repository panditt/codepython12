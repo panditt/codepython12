{
 "cells": [
  {
   "cell_type": "code",
   "execution_count": 2,
   "id": "4e5a7741",
   "metadata": {},
   "outputs": [],
   "source": [
    "import os\n",
    "os.rename(\"demo1.txt\",\"demo.txt\")"
   ]
  },
  {
   "cell_type": "code",
   "execution_count": 10,
   "id": "c4595899",
   "metadata": {},
   "outputs": [
    {
     "ename": "FileNotFoundError",
     "evalue": "[WinError 2] The system cannot find the file specified: 'untitled.ipynb'",
     "output_type": "error",
     "traceback": [
      "\u001b[1;31m---------------------------------------------------------------------------\u001b[0m",
      "\u001b[1;31mFileNotFoundError\u001b[0m                         Traceback (most recent call last)",
      "Input \u001b[1;32mIn [10]\u001b[0m, in \u001b[0;36m<cell line: 14>\u001b[1;34m()\u001b[0m\n\u001b[0;32m      9\u001b[0m os\u001b[38;5;241m.\u001b[39mpath\u001b[38;5;241m.\u001b[39mexists(\u001b[38;5;124m\"\u001b[39m\u001b[38;5;124mkamki.ipynb\u001b[39m\u001b[38;5;124m\"\u001b[39m)\n\u001b[0;32m     11\u001b[0m \u001b[38;5;66;03m#for getting the size of file\u001b[39;00m\n\u001b[0;32m     12\u001b[0m \u001b[38;5;66;03m#os.path.getsize(\"untitled.ipynb\")\u001b[39;00m\n\u001b[1;32m---> 14\u001b[0m \u001b[43mos\u001b[49m\u001b[38;5;241;43m.\u001b[39;49m\u001b[43mpath\u001b[49m\u001b[38;5;241;43m.\u001b[39;49m\u001b[43mgetmtime\u001b[49m\u001b[43m(\u001b[49m\u001b[38;5;124;43m\"\u001b[39;49m\u001b[38;5;124;43muntitled.ipynb\u001b[39;49m\u001b[38;5;124;43m\"\u001b[39;49m\u001b[43m)\u001b[49m\n\u001b[0;32m     15\u001b[0m os\u001b[38;5;241m.\u001b[39mpath\u001b[38;5;241m.\u001b[39mexists(\u001b[38;5;124m\"\u001b[39m\u001b[38;5;124muntitled.ipynb\u001b[39m\u001b[38;5;124m\"\u001b[39m)\n\u001b[0;32m     18\u001b[0m \u001b[38;5;28;01mimport\u001b[39;00m \u001b[38;5;21;01mdatetime\u001b[39;00m\n",
      "File \u001b[1;32m~\\anaconda3\\lib\\genericpath.py:55\u001b[0m, in \u001b[0;36mgetmtime\u001b[1;34m(filename)\u001b[0m\n\u001b[0;32m     53\u001b[0m \u001b[38;5;28;01mdef\u001b[39;00m \u001b[38;5;21mgetmtime\u001b[39m(filename):\n\u001b[0;32m     54\u001b[0m     \u001b[38;5;124;03m\"\"\"Return the last modification time of a file, reported by os.stat().\"\"\"\u001b[39;00m\n\u001b[1;32m---> 55\u001b[0m     \u001b[38;5;28;01mreturn\u001b[39;00m \u001b[43mos\u001b[49m\u001b[38;5;241;43m.\u001b[39;49m\u001b[43mstat\u001b[49m\u001b[43m(\u001b[49m\u001b[43mfilename\u001b[49m\u001b[43m)\u001b[49m\u001b[38;5;241m.\u001b[39mst_mtime\n",
      "\u001b[1;31mFileNotFoundError\u001b[0m: [WinError 2] The system cannot find the file specified: 'untitled.ipynb'"
     ]
    }
   ],
   "source": [
    "import os\n",
    "\"\"\"os.rename(\"renamed.ipynb\",\"kamki.ipynb\")\n",
    "os.remove(\"kamki.ipynb\")\n",
    "os.remove(\"kamki.ipynb\")\n",
    "\"\"\"\n",
    "os.path.exists(\"untitled.ipynb\")\n",
    "\n",
    "#to know if the file exists\n",
    "os.path.exists(\"kamki.ipynb\")\n",
    "\n",
    "#for getting the size of file\n",
    "#os.path.getsize(\"untitled.ipynb\")\n",
    "\n",
    "os.path.getmtime(\"untitled.ipynb\")\n",
    "os.path.exists(\"untitled.ipynb\")\n",
    "\n",
    "\n",
    "import datetime\n",
    "timestamp = os.path.getmtime(\"untitled.ipynb\")\n",
    "datetime.datetime.fromtimestamp(timestamp)\n",
    "\n",
    "\n",
    "fi = \"file.dat\"\n",
    "if os.path.isfile(fi):\n",
    "    print(\"the file exists, what do you want to do with it\")\n",
    "else:\n",
    "    print(\"the file doesn't exists, please create a file with that name if you want\")\n",
    "\n",
    "#for knowing the absolute path of particular file\n",
    "os.path.abspath(\"untitled.ipynb\")\n",
    "\n",
    "\n",
    "\n",
    "\n",
    "print(os.getcwd())\n",
    "\n",
    "os.mkdir(\"new_directory\")\n",
    "\n",
    "\n",
    "os.chdir(\"new_directory\")\n",
    "\n",
    "\n",
    "os.getcwd()\n",
    "\n",
    "\n",
    "os.rmdir(\"new_directory\")\n",
    "\n",
    "os.mkdir(\"newerdir\")\n",
    "os.chdir(\"Nitin\")\n",
    "\n",
    "os.listdir(\"Nitin\")\n",
    "\n",
    "os.listdir(\"new_directory\")\n",
    "\n",
    "os.getcwd()\n",
    "\n",
    "os.chdir(\"c:\\\\Users\\\\Nitin\")\n",
    "\n",
    "os.listdir(\"Nitin\")\n",
    "\n",
    "os.listdir(\"newdirectory\")\n",
    "\n",
    "os.listdir(\"C:\\\\Users\\\\Nitin\")\n",
    "\n",
    "dir = \"C:\\\\Users\\\\Nitin\"\n",
    "for n in os.listdir(dir):\n",
    "    fullname = os.path.join(dir, n)\n",
    "    if os.path.isdir(fullname):\n",
    "            print(\"{} is a directory\".format(fullname))\n",
    "    else:\n",
    "            print(\"{} is a file\".format(full))\n",
    "\n",
    "            \n",
    "for n in os.listdir(dir):\n",
    "    full = os.path.join(dir,n)\n",
    "    if os.path.isdir(full):\n",
    "            print(\"{} is a directory\".format(full))\n",
    "    else:\n",
    "            print(\"{} is a file\".format(full))\n"
   ]
  },
  {
   "cell_type": "code",
   "execution_count": null,
   "id": "19342103",
   "metadata": {},
   "outputs": [],
   "source": []
  }
 ],
 "metadata": {
  "kernelspec": {
   "display_name": "Python 3 (ipykernel)",
   "language": "python",
   "name": "python3"
  },
  "language_info": {
   "codemirror_mode": {
    "name": "ipython",
    "version": 3
   },
   "file_extension": ".py",
   "mimetype": "text/x-python",
   "name": "python",
   "nbconvert_exporter": "python",
   "pygments_lexer": "ipython3",
   "version": "3.9.12"
  }
 },
 "nbformat": 4,
 "nbformat_minor": 5
}
