{
 "cells": [
  {
   "cell_type": "code",
   "execution_count": 8,
   "id": "0e45fa01",
   "metadata": {},
   "outputs": [
    {
     "name": "stdout",
     "output_type": "stream",
     "text": [
      "enter the number of input you want to provide5\n",
      "2 3 5 7 8 \n",
      "the difference between sum of odd and even values is 5\n"
     ]
    }
   ],
   "source": [
    "t = input(\"enter the number of input you want to provide\")\n",
    "oddn = 0\n",
    "evnn = 0\n",
    "entn = []\n",
    "#for i in range(int(t)):\n",
    "entn = list(map(int,input().split()))\n",
    "   # entn.append(int(a))\n",
    "for b in entn:\n",
    "    if b%2 == 0:\n",
    "        \n",
    "        evnn = evnn + b\n",
    "    else:\n",
    "        oddn = oddn + b\n",
    "        \n",
    "if evnn > oddn:\n",
    "    z = evnn - oddn\n",
    "    print(\"the difference between sum of even an odd values is {}\".format(z))\n",
    "else:\n",
    "    z = oddn - evnn\n",
    "    print(\"the difference between sum of odd and even values is {}\".format(z))\n"
   ]
  },
  {
   "cell_type": "code",
   "execution_count": null,
   "id": "299048e1",
   "metadata": {},
   "outputs": [],
   "source": []
  }
 ],
 "metadata": {
  "kernelspec": {
   "display_name": "Python 3 (ipykernel)",
   "language": "python",
   "name": "python3"
  },
  "language_info": {
   "codemirror_mode": {
    "name": "ipython",
    "version": 3
   },
   "file_extension": ".py",
   "mimetype": "text/x-python",
   "name": "python",
   "nbconvert_exporter": "python",
   "pygments_lexer": "ipython3",
   "version": "3.9.12"
  }
 },
 "nbformat": 4,
 "nbformat_minor": 5
}
